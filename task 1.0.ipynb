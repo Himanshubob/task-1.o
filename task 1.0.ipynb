{
 "cells": [
  {
   "cell_type": "markdown",
   "id": "21321513",
   "metadata": {},
   "source": [
    "# Q1. Write a Python program that defines a function called \"add_numbers\" that takes two arguments (i.e., numbers) and returns their sum. Within the function, add the two numbers together and return the result using the return statement. Call the function with the values 5 and 6, and print out the returned result. This will result in the addition of 5 and 6, with the output of the program being the sum of these two numbers."
   ]
  },
  {
   "cell_type": "code",
   "execution_count": 1,
   "id": "9f1c262f",
   "metadata": {},
   "outputs": [
    {
     "name": "stdout",
     "output_type": "stream",
     "text": [
      "enter the value a3\n",
      "enter the value b5\n"
     ]
    },
    {
     "data": {
      "text/plain": [
       "8"
      ]
     },
     "execution_count": 1,
     "metadata": {},
     "output_type": "execute_result"
    }
   ],
   "source": [
    "def add( a,b):\n",
    "    return a+b\n",
    "n=int( input(\"enter the value a\"))\n",
    "m=int(input(\"enter the value b\"))\n",
    "add(n,m)"
   ]
  },
  {
   "cell_type": "markdown",
   "id": "a5c41498",
   "metadata": {},
   "source": [
    "# Q2. Write a Python program that calculates the square root of a given number using a built-in function. Specifically, the program should take an integer or float input from the user, calculate its square root using the 'sqrt()' function from the 'math' module, and print out the result to the user. As an example, calculate the square root of the number 625 using this program, which should output the value of 25."
   ]
  },
  {
   "cell_type": "code",
   "execution_count": 2,
   "id": "58c6549e",
   "metadata": {},
   "outputs": [
    {
     "name": "stdout",
     "output_type": "stream",
     "text": [
      "enter the value 25\n",
      "5.0\n"
     ]
    }
   ],
   "source": [
    "import math as m\n",
    "n=float( input(\"enter the value \"))\n",
    "t=m.sqrt(n)\n",
    "print(t)"
   ]
  },
  {
   "cell_type": "markdown",
   "id": "f47864ac",
   "metadata": {},
   "source": [
    "# Q3.Write a program that prints all prime numbers between 0 to 50.#"
   ]
  },
  {
   "cell_type": "code",
   "execution_count": 4,
   "id": "29a6f684",
   "metadata": {},
   "outputs": [
    {
     "name": "stdout",
     "output_type": "stream",
     "text": [
      "enter the number:50\n",
      "3\n",
      "5\n",
      "5\n",
      "5\n",
      "7\n",
      "7\n",
      "7\n",
      "7\n",
      "7\n",
      "9\n",
      "11\n",
      "11\n",
      "11\n",
      "11\n",
      "11\n",
      "11\n",
      "11\n",
      "11\n",
      "11\n",
      "13\n",
      "13\n",
      "13\n",
      "13\n",
      "13\n",
      "13\n",
      "13\n",
      "13\n",
      "13\n",
      "13\n",
      "13\n",
      "15\n",
      "17\n",
      "17\n",
      "17\n",
      "17\n",
      "17\n",
      "17\n",
      "17\n",
      "17\n",
      "17\n",
      "17\n",
      "17\n",
      "17\n",
      "17\n",
      "17\n",
      "17\n",
      "19\n",
      "19\n",
      "19\n",
      "19\n",
      "19\n",
      "19\n",
      "19\n",
      "19\n",
      "19\n",
      "19\n",
      "19\n",
      "19\n",
      "19\n",
      "19\n",
      "19\n",
      "19\n",
      "19\n",
      "21\n",
      "23\n",
      "23\n",
      "23\n",
      "23\n",
      "23\n",
      "23\n",
      "23\n",
      "23\n",
      "23\n",
      "23\n",
      "23\n",
      "23\n",
      "23\n",
      "23\n",
      "23\n",
      "23\n",
      "23\n",
      "23\n",
      "23\n",
      "23\n",
      "23\n",
      "25\n",
      "25\n",
      "25\n",
      "27\n",
      "29\n",
      "29\n",
      "29\n",
      "29\n",
      "29\n",
      "29\n",
      "29\n",
      "29\n",
      "29\n",
      "29\n",
      "29\n",
      "29\n",
      "29\n",
      "29\n",
      "29\n",
      "29\n",
      "29\n",
      "29\n",
      "29\n",
      "29\n",
      "29\n",
      "29\n",
      "29\n",
      "29\n",
      "29\n",
      "29\n",
      "29\n",
      "31\n",
      "31\n",
      "31\n",
      "31\n",
      "31\n",
      "31\n",
      "31\n",
      "31\n",
      "31\n",
      "31\n",
      "31\n",
      "31\n",
      "31\n",
      "31\n",
      "31\n",
      "31\n",
      "31\n",
      "31\n",
      "31\n",
      "31\n",
      "31\n",
      "31\n",
      "31\n",
      "31\n",
      "31\n",
      "31\n",
      "31\n",
      "31\n",
      "31\n",
      "33\n",
      "35\n",
      "35\n",
      "35\n",
      "37\n",
      "37\n",
      "37\n",
      "37\n",
      "37\n",
      "37\n",
      "37\n",
      "37\n",
      "37\n",
      "37\n",
      "37\n",
      "37\n",
      "37\n",
      "37\n",
      "37\n",
      "37\n",
      "37\n",
      "37\n",
      "37\n",
      "37\n",
      "37\n",
      "37\n",
      "37\n",
      "37\n",
      "37\n",
      "37\n",
      "37\n",
      "37\n",
      "37\n",
      "37\n",
      "37\n",
      "37\n",
      "37\n",
      "37\n",
      "37\n",
      "39\n",
      "41\n",
      "41\n",
      "41\n",
      "41\n",
      "41\n",
      "41\n",
      "41\n",
      "41\n",
      "41\n",
      "41\n",
      "41\n",
      "41\n",
      "41\n",
      "41\n",
      "41\n",
      "41\n",
      "41\n",
      "41\n",
      "41\n",
      "41\n",
      "41\n",
      "41\n",
      "41\n",
      "41\n",
      "41\n",
      "41\n",
      "41\n",
      "41\n",
      "41\n",
      "41\n",
      "41\n",
      "41\n",
      "41\n",
      "41\n",
      "41\n",
      "41\n",
      "41\n",
      "41\n",
      "41\n",
      "43\n",
      "43\n",
      "43\n",
      "43\n",
      "43\n",
      "43\n",
      "43\n",
      "43\n",
      "43\n",
      "43\n",
      "43\n",
      "43\n",
      "43\n",
      "43\n",
      "43\n",
      "43\n",
      "43\n",
      "43\n",
      "43\n",
      "43\n",
      "43\n",
      "43\n",
      "43\n",
      "43\n",
      "43\n",
      "43\n",
      "43\n",
      "43\n",
      "43\n",
      "43\n",
      "43\n",
      "43\n",
      "43\n",
      "43\n",
      "43\n",
      "43\n",
      "43\n",
      "43\n",
      "43\n",
      "43\n",
      "43\n",
      "45\n",
      "47\n",
      "47\n",
      "47\n",
      "47\n",
      "47\n",
      "47\n",
      "47\n",
      "47\n",
      "47\n",
      "47\n",
      "47\n",
      "47\n",
      "47\n",
      "47\n",
      "47\n",
      "47\n",
      "47\n",
      "47\n",
      "47\n",
      "47\n",
      "47\n",
      "47\n",
      "47\n",
      "47\n",
      "47\n",
      "47\n",
      "47\n",
      "47\n",
      "47\n",
      "47\n",
      "47\n",
      "47\n",
      "47\n",
      "47\n",
      "47\n",
      "47\n",
      "47\n",
      "47\n",
      "47\n",
      "47\n",
      "47\n",
      "47\n",
      "47\n",
      "47\n",
      "47\n",
      "49\n",
      "49\n",
      "49\n",
      "49\n",
      "49\n"
     ]
    }
   ],
   "source": [
    "n=int(input(\"enter the number:\"))\n",
    "for n in range (2,51):\n",
    "    is_prime=True\n",
    "    for i in range (2,n):\n",
    "        if(n%i==0):\n",
    "            is_prime=False\n",
    "            break\n",
    "        if is_prime:\n",
    "            print(n)"
   ]
  },
  {
   "cell_type": "markdown",
   "id": "09daa8d4",
   "metadata": {},
   "source": [
    "# Q4.How can we swap the values of three variables (let's say a, b, and c) without using a fourth variable?For example, if we have a=5, b=8, and c=9, how can we obtain a=9, b=5, and c=8? The challenge is toperform this operation without using an additional variable to store any of the values during the swapping process."
   ]
  },
  {
   "cell_type": "code",
   "execution_count": 5,
   "id": "c3d8009f",
   "metadata": {},
   "outputs": [
    {
     "name": "stdout",
     "output_type": "stream",
     "text": [
      "9\n",
      "5\n",
      "8\n"
     ]
    }
   ],
   "source": [
    "a=5\n",
    "b=8\n",
    "c=9\n",
    "a,b,c=c,a,b\n",
    "\n",
    "print(a)\n",
    "print(b)\n",
    "print(c)"
   ]
  },
  {
   "cell_type": "markdown",
   "id": "a7dfba3e",
   "metadata": {},
   "source": [
    "# Q5. Can you write a program that determines the nature of a given number (in this case, 87) as being positive, negative, or zero? The program should be designed to take the number as input and perform the necessary calculations to determine if the number is positive (i.e., greater than zero), negative (i.e., less than zero), or zero (i.e., equal to zero). The output of the program should indicate which of these three categories the given number falls into."
   ]
  },
  {
   "cell_type": "code",
   "execution_count": 6,
   "id": "4f6190b6",
   "metadata": {},
   "outputs": [
    {
     "name": "stdout",
     "output_type": "stream",
     "text": [
      "enter the number87\n",
      "the given number is positve\n"
     ]
    }
   ],
   "source": [
    "n=int(input(\"enter the number\"))\n",
    "if(n>0):\n",
    "    print (\"the given number is positve\")\n",
    "elif (n<0):\n",
    "    print(\"the given number is negative \")\n",
    "else:\n",
    "    print( \"the given number is zero \")"
   ]
  },
  {
   "cell_type": "markdown",
   "id": "0479bd92",
   "metadata": {},
   "source": [
    "# Q6. How can you create a program that determines whether a given number (in this case, 98) is even or odd? The program should be designed to take the number as input and perform the necessary calculations to determine whether it is divisible by two. If the number is divisible by two without leaving a remainder, it is an even number, and if there is a remainder, it is an odd number. The output of the program should indicate whether the given number is even or odd."
   ]
  },
  {
   "cell_type": "code",
   "execution_count": 7,
   "id": "6c4f0b2f",
   "metadata": {},
   "outputs": [
    {
     "name": "stdout",
     "output_type": "stream",
     "text": [
      "enter the number is :98\n",
      "the given number is even\n"
     ]
    }
   ],
   "source": [
    "n=int( input(\"enter the number is :\"))\n",
    "if(n%2==0):\n",
    "    print(\"the given number is even\")\n",
    "else:\n",
    "    print(\"the given number is odd\")"
   ]
  },
  {
   "cell_type": "markdown",
   "id": "cc35bbba",
   "metadata": {},
   "source": [
    "# Q7.Write a program for sum of digits.the digits are 76543 and the output should be 25."
   ]
  },
  {
   "cell_type": "code",
   "execution_count": 10,
   "id": "604881e8",
   "metadata": {},
   "outputs": [
    {
     "name": "stdout",
     "output_type": "stream",
     "text": [
      "enter the number is 76543\n",
      "25\n"
     ]
    }
   ],
   "source": [
    "n=int(input(\"enter the number is \"))\n",
    "sum=0\n",
    "while(n>0):\n",
    "    digit=n%10\n",
    "    sum=sum+digit\n",
    "    n//=10\n",
    "print(sum)"
   ]
  },
  {
   "cell_type": "markdown",
   "id": "767cfbd9",
   "metadata": {},
   "source": [
    "# Q8.Write a program for reversing the given number 5436 and the output should be 6345."
   ]
  },
  {
   "cell_type": "code",
   "execution_count": 12,
   "id": "d97b4d6d",
   "metadata": {},
   "outputs": [
    {
     "name": "stdout",
     "output_type": "stream",
     "text": [
      "enter the number is :5436\n",
      "6345\n"
     ]
    }
   ],
   "source": [
    "n=int(input(\"enter the number is :\"))\n",
    "reverse=0\n",
    "while(n>0):\n",
    "    digit=n%10\n",
    "    reverse=reverse*10+digit\n",
    "    n//=10\n",
    "print(reverse)"
   ]
  },
  {
   "cell_type": "markdown",
   "id": "587c9f3f",
   "metadata": {},
   "source": [
    "# Q9.Write a program to check if a given number 371 is an Armstrong number?"
   ]
  },
  {
   "cell_type": "code",
   "execution_count": 21,
   "id": "b2a262f8",
   "metadata": {},
   "outputs": [
    {
     "name": "stdout",
     "output_type": "stream",
     "text": [
      "enter the number :371\n"
     ]
    },
    {
     "ename": "TypeError",
     "evalue": "'int' object is not callable",
     "output_type": "error",
     "traceback": [
      "\u001b[1;31m---------------------------------------------------------------------------\u001b[0m",
      "\u001b[1;31mTypeError\u001b[0m                                 Traceback (most recent call last)",
      "Cell \u001b[1;32mIn[21], line 10\u001b[0m\n\u001b[0;32m      8\u001b[0m         \u001b[38;5;28;01mreturn\u001b[39;00m \u001b[38;5;28;01mFalse\u001b[39;00m\n\u001b[0;32m      9\u001b[0m n\u001b[38;5;241m=\u001b[39m(\u001b[38;5;28minput\u001b[39m(\u001b[38;5;124m\"\u001b[39m\u001b[38;5;124menter the number :\u001b[39m\u001b[38;5;124m\"\u001b[39m))\n\u001b[1;32m---> 10\u001b[0m \u001b[38;5;28;01mif\u001b[39;00m \u001b[43mis_armstorg\u001b[49m\u001b[43m(\u001b[49m\u001b[43mn\u001b[49m\u001b[43m)\u001b[49m:\n\u001b[0;32m     11\u001b[0m     \u001b[38;5;28mprint\u001b[39m(n,\u001b[38;5;124m\"\u001b[39m\u001b[38;5;124mis an armstorg number\u001b[39m\u001b[38;5;124m\"\u001b[39m)\n\u001b[0;32m     12\u001b[0m \u001b[38;5;28;01melse\u001b[39;00m:\n",
      "Cell \u001b[1;32mIn[21], line 4\u001b[0m, in \u001b[0;36mis_armstorg\u001b[1;34m(n)\u001b[0m\n\u001b[0;32m      2\u001b[0m num_str\u001b[38;5;241m=\u001b[39m\u001b[38;5;28mstr\u001b[39m(n)\n\u001b[0;32m      3\u001b[0m num_digits\u001b[38;5;241m=\u001b[39m\u001b[38;5;28mlen\u001b[39m(num_str)\n\u001b[1;32m----> 4\u001b[0m sum_cube\u001b[38;5;241m=\u001b[39m\u001b[38;5;28;43msum\u001b[39;49m\u001b[43m(\u001b[49m\u001b[43m[\u001b[49m\u001b[38;5;28;43mint\u001b[39;49m\u001b[43m(\u001b[49m\u001b[43mi\u001b[49m\u001b[43m)\u001b[49m\u001b[38;5;241;43m*\u001b[39;49m\u001b[38;5;241;43m*\u001b[39;49m\u001b[43mnum_digits\u001b[49m\u001b[43m \u001b[49m\u001b[38;5;28;43;01mfor\u001b[39;49;00m\u001b[43m \u001b[49m\u001b[43mi\u001b[49m\u001b[43m \u001b[49m\u001b[38;5;129;43;01min\u001b[39;49;00m\u001b[43m \u001b[49m\u001b[43mnum_str\u001b[49m\u001b[43m]\u001b[49m\u001b[43m)\u001b[49m\n\u001b[0;32m      5\u001b[0m \u001b[38;5;28;01mif\u001b[39;00m sum_cube\u001b[38;5;241m==\u001b[39mn:\n\u001b[0;32m      6\u001b[0m     \u001b[38;5;28;01mreturn\u001b[39;00m \u001b[38;5;28;01mTrue\u001b[39;00m\n",
      "\u001b[1;31mTypeError\u001b[0m: 'int' object is not callable"
     ]
    }
   ],
   "source": [
    "def is_armstorg(n):\n",
    "    num_str=str(n)\n",
    "    num_digits=len(num_str)\n",
    "    sum_cube=sum([int(i)**num_digits for i in num_str])\n",
    "    if sum_cube==n:\n",
    "        return True\n",
    "    else:\n",
    "        return False\n",
    "n=(input(\"enter the number :\"))\n",
    "if is_armstorg(n):\n",
    "    print(n,\"is an armstorg number\")\n",
    "else:\n",
    "    print(n,\"is not an armstorg number\")"
   ]
  },
  {
   "cell_type": "markdown",
   "id": "54e9a4f8",
   "metadata": {},
   "source": [
    "# Q10.Write a program the given year is 1996, a leap year."
   ]
  },
  {
   "cell_type": "code",
   "execution_count": 22,
   "id": "27933a25",
   "metadata": {},
   "outputs": [
    {
     "name": "stdout",
     "output_type": "stream",
     "text": [
      "enter the year :1996\n",
      " the given year is leap year\n"
     ]
    }
   ],
   "source": [
    "year=int(input(\"enter the year :\"))\n",
    "if(year%4==0 and year%100!=0)or(year%400==0):\n",
    "    print(\" the given year is leap year\")\n",
    "else:\n",
    "    print( \"the given year is not leap year\")"
   ]
  },
  {
   "cell_type": "code",
   "execution_count": null,
   "id": "8164721a",
   "metadata": {},
   "outputs": [],
   "source": []
  }
 ],
 "metadata": {
  "kernelspec": {
   "display_name": "Python 3 (ipykernel)",
   "language": "python",
   "name": "python3"
  },
  "language_info": {
   "codemirror_mode": {
    "name": "ipython",
    "version": 3
   },
   "file_extension": ".py",
   "mimetype": "text/x-python",
   "name": "python",
   "nbconvert_exporter": "python",
   "pygments_lexer": "ipython3",
   "version": "3.10.9"
  }
 },
 "nbformat": 4,
 "nbformat_minor": 5
}
